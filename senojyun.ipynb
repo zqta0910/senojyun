{
 "cells": [
  {
   "cell_type": "code",
   "execution_count": 8,
   "id": "d7fb26e8",
   "metadata": {},
   "outputs": [
    {
     "name": "stdout",
     "output_type": "stream",
     "text": [
      "\n",
      "--- 身長順リスト ---\n",
      "順位: 1, 名前: bbb, 身長: 180.0cm\n",
      "順位: 2, 名前: aaa, 身長: 160.0cm\n",
      "順位: 3, 名前: ccc, 身長: 140.0cm\n"
     ]
    }
   ],
   "source": [
    "def senojyun():\n",
    "    \"\"\"身長が高い順に並べる\"\"\"\n",
    "    \n",
    "    student = []\n",
    "    \n",
    "    while True:\n",
    "    \n",
    "        try:\n",
    "            num_students = int(input('生徒の数を記入してください'))\n",
    "            if num_students <= 0:\n",
    "                print('生徒の数は１以上である必要があります')\n",
    "                continue\n",
    "            break\n",
    "                \n",
    "        except ValueError:\n",
    "            print('有効な値を入力してください')\n",
    "        \n",
    "    for i in range(num_students):\n",
    "        name = input(f'生徒{i+1}の名前を記入してください:')\n",
    "        \n",
    "        while True:\n",
    "            try:\n",
    "                height = float(input(f'生徒{i+1}の身長(cm)を記入してください:'))\n",
    "                break\n",
    "            except ValueError:\n",
    "                print('有効な値を入力してください')\n",
    "                \n",
    "        student.append((name, height))\n",
    "    \n",
    "    student.sort(key=lambda x: x[1], reverse=True)\n",
    "        \n",
    "    print('\\n--- 身長順リスト ---')\n",
    "    for rank, student in enumerate(student, 1):\n",
    "        name = student[0]\n",
    "        height = student[1]\n",
    "        print(f'順位: {rank}, 名前: {name}, 身長: {height:.1f}cm')\n",
    "        \n",
    "senojyun()\n",
    "        "
   ]
  }
 ],
 "metadata": {
  "kernelspec": {
   "display_name": "3.13.7",
   "language": "python",
   "name": "python3"
  },
  "language_info": {
   "codemirror_mode": {
    "name": "ipython",
    "version": 3
   },
   "file_extension": ".py",
   "mimetype": "text/x-python",
   "name": "python",
   "nbconvert_exporter": "python",
   "pygments_lexer": "ipython3",
   "version": "3.13.7"
  }
 },
 "nbformat": 4,
 "nbformat_minor": 5
}
